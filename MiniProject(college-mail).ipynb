{
  "nbformat": 4,
  "nbformat_minor": 0,
  "metadata": {
    "colab": {
      "provenance": [],
      "include_colab_link": true
    },
    "kernelspec": {
      "name": "python3",
      "display_name": "Python 3"
    },
    "language_info": {
      "name": "python"
    }
  },
  "cells": [
    {
      "cell_type": "markdown",
      "metadata": {
        "id": "view-in-github",
        "colab_type": "text"
      },
      "source": [
        "<a href=\"https://colab.research.google.com/github/krishnabalajiwork/Sentiment-Analysis/blob/main/MiniProject(college-mail).ipynb\" target=\"_parent\"><img src=\"https://colab.research.google.com/assets/colab-badge.svg\" alt=\"Open In Colab\"/></a>"
      ]
    },
    {
      "cell_type": "markdown",
      "source": [
        "## **YouTube Comments Using CRISP-DM (Sentiment Analysis)**"
      ],
      "metadata": {
        "id": "ss-3yV1l8IhG"
      }
    },
    {
      "cell_type": "markdown",
      "source": [
        "#TEAM MEMBERS:\n",
        "\n",
        "VEERAPU RAJU----------------------BU22CSEN0100246\n",
        "\n",
        "CHINTHA KRISHNA BALAJI-------BU22CSEN0101063\n",
        "\n",
        "BOMMANA HARSHITHA-----------BU22CSEN0101289\n",
        "\n",
        "TALARI LOKESH KUMAR----------BU22CSEN0101360\n",
        "\n",
        "C. NAYUM AKTHAR -----------------BU22CSEN0101361\n",
        "\n",
        "D.NIKHIL REDDY---------------------BU22CSEN0101541"
      ],
      "metadata": {
        "id": "NN3QMLuY7hC4"
      }
    },
    {
      "cell_type": "markdown",
      "source": [
        "#*Download Dataset*"
      ],
      "metadata": {
        "id": "khFkZShy4Bp7"
      }
    },
    {
      "cell_type": "code",
      "source": [
        "import pandas as pd\n",
        "from textblob import TextBlob\n",
        "\n",
        "# Load the dataset\n",
        "file_path = '/content/bts_2021_1.csv'\n",
        "data = pd.read_csv(file_path)\n",
        "\n",
        "# Display the first few rows of the dataset\n",
        "print(data.head())\n"
      ],
      "metadata": {
        "colab": {
          "base_uri": "https://localhost:8080/"
        },
        "id": "An1H543M4IBK",
        "outputId": "54bc4385-86dc-4381-a709-db0727c41304"
      },
      "execution_count": 1,
      "outputs": [
        {
          "output_type": "stream",
          "name": "stdout",
          "text": [
            "  query                                          url  \\\n",
            "0   bts  https://www.youtube.com/watch?v=S8GpX3SAeig   \n",
            "1   bts  https://www.youtube.com/watch?v=S8GpX3SAeig   \n",
            "2   bts  https://www.youtube.com/watch?v=S8GpX3SAeig   \n",
            "3   bts  https://www.youtube.com/watch?v=S8GpX3SAeig   \n",
            "4   bts  https://www.youtube.com/watch?v=S8GpX3SAeig   \n",
            "\n",
            "                                               title           upload_date  \\\n",
            "0  5 Hour BTS Piano Playlist | Study & Relax with...  2021-01-01T10:58:00Z   \n",
            "1  5 Hour BTS Piano Playlist | Study & Relax with...  2021-01-01T10:58:00Z   \n",
            "2  5 Hour BTS Piano Playlist | Study & Relax with...  2021-01-01T10:58:00Z   \n",
            "3  5 Hour BTS Piano Playlist | Study & Relax with...  2021-01-01T10:58:00Z   \n",
            "4  5 Hour BTS Piano Playlist | Study & Relax with...  2021-01-01T10:58:00Z   \n",
            "\n",
            "    channel    views   likes  dislikes  comment_count  \\\n",
            "0  DooPiano  2444982  119269       501           3224   \n",
            "1  DooPiano  2444982  119269       501           3224   \n",
            "2  DooPiano  2444982  119269       501           3224   \n",
            "3  DooPiano  2444982  119269       501           3224   \n",
            "4  DooPiano  2444982  119269       501           3224   \n",
            "\n",
            "                                        comment_text          comment_author  \\\n",
            "0  ♪ Listen on Spotify!: https://spoti.fi/3gC9GfA...                DooPiano   \n",
            "1  My ears: *relaxing* My hands: *writing*  My le...             •ɱĭss süğą•   \n",
            "2  Parents: You have to make us proud  Partner: Y...  Leian Xyrielle Dayahan   \n",
            "3  Little boy: “Are you an angel?”  Girl: “What?”...                   Lisha   \n",
            "4  Reasons to live:    “Suicide doesn’t stop the ...               Grace Cho   \n",
            "\n",
            "           comment_date  comment_likes  \n",
            "0  2021-01-01T10:58:20Z           3884  \n",
            "1  2021-01-29T15:42:43Z           4077  \n",
            "2  2021-03-09T00:52:35Z            827  \n",
            "3  2021-02-12T15:48:08Z            921  \n",
            "4  2021-02-02T18:39:00Z           2248  \n"
          ]
        }
      ]
    },
    {
      "cell_type": "markdown",
      "source": [
        "#*Data Pre-processing*"
      ],
      "metadata": {
        "id": "RL3vaDTN4PAN"
      }
    },
    {
      "cell_type": "markdown",
      "source": [
        "1. Missing Value Analysis:"
      ],
      "metadata": {
        "id": "h7VBiVmH4Y29"
      }
    },
    {
      "cell_type": "code",
      "source": [
        "# Check for missing values\n",
        "print(data.isnull().sum())\n",
        "\n",
        "# Drop rows with missing values (if any)\n",
        "data = data.dropna(subset=['comment_text'])\n"
      ],
      "metadata": {
        "id": "fgjhQwml4LRb",
        "colab": {
          "base_uri": "https://localhost:8080/"
        },
        "outputId": "accc6cf2-835c-4f13-c8b9-faedad130ed9"
      },
      "execution_count": 2,
      "outputs": [
        {
          "output_type": "stream",
          "name": "stdout",
          "text": [
            "query             0\n",
            "url               0\n",
            "title             0\n",
            "upload_date       0\n",
            "channel           0\n",
            "views             0\n",
            "likes             0\n",
            "dislikes          0\n",
            "comment_count     0\n",
            "comment_text      0\n",
            "comment_author    0\n",
            "comment_date      0\n",
            "comment_likes     0\n",
            "dtype: int64\n"
          ]
        }
      ]
    },
    {
      "cell_type": "markdown",
      "source": [
        "2. Sentiment Analysis (Polarity and Subjectivity):"
      ],
      "metadata": {
        "id": "h-adzRm84n-d"
      }
    },
    {
      "cell_type": "code",
      "source": [
        "# Function to calculate polarity and subjectivity\n",
        "def get_sentiment(text):\n",
        "    blob = TextBlob(text)\n",
        "    return blob.sentiment.polarity, blob.sentiment.subjectivity\n",
        "\n",
        "# Apply the function to the dataset to get polarity and subjectivity\n",
        "data[['polarity', 'subjectivity']] = data['comment_text'].apply(lambda x: pd.Series(get_sentiment(x)))\n"
      ],
      "metadata": {
        "id": "_FH75peR4qLf"
      },
      "execution_count": 3,
      "outputs": []
    },
    {
      "cell_type": "code",
      "source": [
        "from textblob import TextBlob\n",
        "\n",
        "# Function to get the sentiment polarity and subjectivity\n",
        "def get_sentiment(text):\n",
        "    blob = TextBlob(text)\n",
        "    return blob.sentiment.polarity, blob.sentiment.subjectivity\n",
        "\n",
        "# Apply the function to the dataset to get polarity and subjectivity\n",
        "data[['polarity', 'subjectivity']] = data['comment_text'].apply(lambda x: pd.Series(get_sentiment(x)))\n",
        "\n",
        "# Sample output: First few rows with polarity and subjectivity\n",
        "print(data[['comment_text', 'polarity', 'subjectivity']].head())\n"
      ],
      "metadata": {
        "id": "qeYbOAxr7yFh",
        "colab": {
          "base_uri": "https://localhost:8080/"
        },
        "outputId": "e7870c52-7869-482a-df6b-dfc8588a0399"
      },
      "execution_count": 4,
      "outputs": [
        {
          "output_type": "stream",
          "name": "stdout",
          "text": [
            "                                        comment_text  polarity  subjectivity\n",
            "0  ♪ Listen on Spotify!: https://spoti.fi/3gC9GfA...  0.230549      0.491982\n",
            "1  My ears: *relaxing* My hands: *writing*  My le...  0.000000      0.000000\n",
            "2  Parents: You have to make us proud  Partner: Y...  0.587500      0.800000\n",
            "3  Little boy: “Are you an angel?”  Girl: “What?”...  0.071312      0.650000\n",
            "4  Reasons to live:    “Suicide doesn’t stop the ...  0.251724      0.563024\n"
          ]
        }
      ]
    },
    {
      "cell_type": "markdown",
      "source": [
        "3. Categorizing Sentiment:"
      ],
      "metadata": {
        "id": "avSh0Z0F4sNO"
      }
    },
    {
      "cell_type": "code",
      "source": [
        "def categorize_sentiment(polarity):\n",
        "    if polarity > 0:\n",
        "        return 'Positive'\n",
        "    elif polarity == 0:\n",
        "        return 'Neutral'\n",
        "    else:\n",
        "        return 'Negative'\n",
        "\n",
        "data['sentiment'] = data['polarity'].apply(categorize_sentiment)\n"
      ],
      "metadata": {
        "id": "MSDRf-g34uo8"
      },
      "execution_count": 5,
      "outputs": []
    },
    {
      "cell_type": "markdown",
      "source": [
        "4. Encoding and Vectorization:"
      ],
      "metadata": {
        "id": "9gFMSyT246Q3"
      }
    },
    {
      "cell_type": "code",
      "source": [
        "from sklearn.feature_extraction.text import CountVectorizer\n",
        "from sklearn.preprocessing import LabelEncoder\n",
        "\n",
        "# Encode the sentiment labels (Positive, Neutral, Negative)\n",
        "le = LabelEncoder()\n",
        "data['sentiment_encoded'] = le.fit_transform(data['sentiment'])\n",
        "\n",
        "# Vectorizing the comment_text using CountVectorizer\n",
        "vectorizer = CountVectorizer(stop_words='english')\n",
        "X = vectorizer.fit_transform(data['comment_text'])\n",
        "\n",
        "# Target variable\n",
        "y = data['sentiment_encoded']\n"
      ],
      "metadata": {
        "id": "oJYYwdd847Ab"
      },
      "execution_count": 6,
      "outputs": []
    },
    {
      "cell_type": "markdown",
      "source": [
        "#*Model Creation*"
      ],
      "metadata": {
        "id": "oh0Gp9fd4-Lp"
      }
    },
    {
      "cell_type": "code",
      "source": [
        "from sklearn.model_selection import train_test_split\n",
        "from sklearn.linear_model import LogisticRegression\n",
        "\n",
        "# Split data into train and test sets (80% training, 20% testing)\n",
        "X_train, X_test, y_train, y_test = train_test_split(X, y, test_size=0.2, random_state=42)\n",
        "\n",
        "# Train the Logistic Regression model\n",
        "log_reg = LogisticRegression(max_iter=1000)\n",
        "log_reg.fit(X_train, y_train)\n"
      ],
      "metadata": {
        "id": "p-9Zd8ep5GCa",
        "colab": {
          "base_uri": "https://localhost:8080/",
          "height": 80
        },
        "outputId": "ba2605be-aec7-4fe9-f2c5-3f35d0b73ce6"
      },
      "execution_count": 7,
      "outputs": [
        {
          "output_type": "execute_result",
          "data": {
            "text/plain": [
              "LogisticRegression(max_iter=1000)"
            ],
            "text/html": [
              "<style>#sk-container-id-1 {\n",
              "  /* Definition of color scheme common for light and dark mode */\n",
              "  --sklearn-color-text: #000;\n",
              "  --sklearn-color-text-muted: #666;\n",
              "  --sklearn-color-line: gray;\n",
              "  /* Definition of color scheme for unfitted estimators */\n",
              "  --sklearn-color-unfitted-level-0: #fff5e6;\n",
              "  --sklearn-color-unfitted-level-1: #f6e4d2;\n",
              "  --sklearn-color-unfitted-level-2: #ffe0b3;\n",
              "  --sklearn-color-unfitted-level-3: chocolate;\n",
              "  /* Definition of color scheme for fitted estimators */\n",
              "  --sklearn-color-fitted-level-0: #f0f8ff;\n",
              "  --sklearn-color-fitted-level-1: #d4ebff;\n",
              "  --sklearn-color-fitted-level-2: #b3dbfd;\n",
              "  --sklearn-color-fitted-level-3: cornflowerblue;\n",
              "\n",
              "  /* Specific color for light theme */\n",
              "  --sklearn-color-text-on-default-background: var(--sg-text-color, var(--theme-code-foreground, var(--jp-content-font-color1, black)));\n",
              "  --sklearn-color-background: var(--sg-background-color, var(--theme-background, var(--jp-layout-color0, white)));\n",
              "  --sklearn-color-border-box: var(--sg-text-color, var(--theme-code-foreground, var(--jp-content-font-color1, black)));\n",
              "  --sklearn-color-icon: #696969;\n",
              "\n",
              "  @media (prefers-color-scheme: dark) {\n",
              "    /* Redefinition of color scheme for dark theme */\n",
              "    --sklearn-color-text-on-default-background: var(--sg-text-color, var(--theme-code-foreground, var(--jp-content-font-color1, white)));\n",
              "    --sklearn-color-background: var(--sg-background-color, var(--theme-background, var(--jp-layout-color0, #111)));\n",
              "    --sklearn-color-border-box: var(--sg-text-color, var(--theme-code-foreground, var(--jp-content-font-color1, white)));\n",
              "    --sklearn-color-icon: #878787;\n",
              "  }\n",
              "}\n",
              "\n",
              "#sk-container-id-1 {\n",
              "  color: var(--sklearn-color-text);\n",
              "}\n",
              "\n",
              "#sk-container-id-1 pre {\n",
              "  padding: 0;\n",
              "}\n",
              "\n",
              "#sk-container-id-1 input.sk-hidden--visually {\n",
              "  border: 0;\n",
              "  clip: rect(1px 1px 1px 1px);\n",
              "  clip: rect(1px, 1px, 1px, 1px);\n",
              "  height: 1px;\n",
              "  margin: -1px;\n",
              "  overflow: hidden;\n",
              "  padding: 0;\n",
              "  position: absolute;\n",
              "  width: 1px;\n",
              "}\n",
              "\n",
              "#sk-container-id-1 div.sk-dashed-wrapped {\n",
              "  border: 1px dashed var(--sklearn-color-line);\n",
              "  margin: 0 0.4em 0.5em 0.4em;\n",
              "  box-sizing: border-box;\n",
              "  padding-bottom: 0.4em;\n",
              "  background-color: var(--sklearn-color-background);\n",
              "}\n",
              "\n",
              "#sk-container-id-1 div.sk-container {\n",
              "  /* jupyter's `normalize.less` sets `[hidden] { display: none; }`\n",
              "     but bootstrap.min.css set `[hidden] { display: none !important; }`\n",
              "     so we also need the `!important` here to be able to override the\n",
              "     default hidden behavior on the sphinx rendered scikit-learn.org.\n",
              "     See: https://github.com/scikit-learn/scikit-learn/issues/21755 */\n",
              "  display: inline-block !important;\n",
              "  position: relative;\n",
              "}\n",
              "\n",
              "#sk-container-id-1 div.sk-text-repr-fallback {\n",
              "  display: none;\n",
              "}\n",
              "\n",
              "div.sk-parallel-item,\n",
              "div.sk-serial,\n",
              "div.sk-item {\n",
              "  /* draw centered vertical line to link estimators */\n",
              "  background-image: linear-gradient(var(--sklearn-color-text-on-default-background), var(--sklearn-color-text-on-default-background));\n",
              "  background-size: 2px 100%;\n",
              "  background-repeat: no-repeat;\n",
              "  background-position: center center;\n",
              "}\n",
              "\n",
              "/* Parallel-specific style estimator block */\n",
              "\n",
              "#sk-container-id-1 div.sk-parallel-item::after {\n",
              "  content: \"\";\n",
              "  width: 100%;\n",
              "  border-bottom: 2px solid var(--sklearn-color-text-on-default-background);\n",
              "  flex-grow: 1;\n",
              "}\n",
              "\n",
              "#sk-container-id-1 div.sk-parallel {\n",
              "  display: flex;\n",
              "  align-items: stretch;\n",
              "  justify-content: center;\n",
              "  background-color: var(--sklearn-color-background);\n",
              "  position: relative;\n",
              "}\n",
              "\n",
              "#sk-container-id-1 div.sk-parallel-item {\n",
              "  display: flex;\n",
              "  flex-direction: column;\n",
              "}\n",
              "\n",
              "#sk-container-id-1 div.sk-parallel-item:first-child::after {\n",
              "  align-self: flex-end;\n",
              "  width: 50%;\n",
              "}\n",
              "\n",
              "#sk-container-id-1 div.sk-parallel-item:last-child::after {\n",
              "  align-self: flex-start;\n",
              "  width: 50%;\n",
              "}\n",
              "\n",
              "#sk-container-id-1 div.sk-parallel-item:only-child::after {\n",
              "  width: 0;\n",
              "}\n",
              "\n",
              "/* Serial-specific style estimator block */\n",
              "\n",
              "#sk-container-id-1 div.sk-serial {\n",
              "  display: flex;\n",
              "  flex-direction: column;\n",
              "  align-items: center;\n",
              "  background-color: var(--sklearn-color-background);\n",
              "  padding-right: 1em;\n",
              "  padding-left: 1em;\n",
              "}\n",
              "\n",
              "\n",
              "/* Toggleable style: style used for estimator/Pipeline/ColumnTransformer box that is\n",
              "clickable and can be expanded/collapsed.\n",
              "- Pipeline and ColumnTransformer use this feature and define the default style\n",
              "- Estimators will overwrite some part of the style using the `sk-estimator` class\n",
              "*/\n",
              "\n",
              "/* Pipeline and ColumnTransformer style (default) */\n",
              "\n",
              "#sk-container-id-1 div.sk-toggleable {\n",
              "  /* Default theme specific background. It is overwritten whether we have a\n",
              "  specific estimator or a Pipeline/ColumnTransformer */\n",
              "  background-color: var(--sklearn-color-background);\n",
              "}\n",
              "\n",
              "/* Toggleable label */\n",
              "#sk-container-id-1 label.sk-toggleable__label {\n",
              "  cursor: pointer;\n",
              "  display: flex;\n",
              "  width: 100%;\n",
              "  margin-bottom: 0;\n",
              "  padding: 0.5em;\n",
              "  box-sizing: border-box;\n",
              "  text-align: center;\n",
              "  align-items: start;\n",
              "  justify-content: space-between;\n",
              "  gap: 0.5em;\n",
              "}\n",
              "\n",
              "#sk-container-id-1 label.sk-toggleable__label .caption {\n",
              "  font-size: 0.6rem;\n",
              "  font-weight: lighter;\n",
              "  color: var(--sklearn-color-text-muted);\n",
              "}\n",
              "\n",
              "#sk-container-id-1 label.sk-toggleable__label-arrow:before {\n",
              "  /* Arrow on the left of the label */\n",
              "  content: \"▸\";\n",
              "  float: left;\n",
              "  margin-right: 0.25em;\n",
              "  color: var(--sklearn-color-icon);\n",
              "}\n",
              "\n",
              "#sk-container-id-1 label.sk-toggleable__label-arrow:hover:before {\n",
              "  color: var(--sklearn-color-text);\n",
              "}\n",
              "\n",
              "/* Toggleable content - dropdown */\n",
              "\n",
              "#sk-container-id-1 div.sk-toggleable__content {\n",
              "  max-height: 0;\n",
              "  max-width: 0;\n",
              "  overflow: hidden;\n",
              "  text-align: left;\n",
              "  /* unfitted */\n",
              "  background-color: var(--sklearn-color-unfitted-level-0);\n",
              "}\n",
              "\n",
              "#sk-container-id-1 div.sk-toggleable__content.fitted {\n",
              "  /* fitted */\n",
              "  background-color: var(--sklearn-color-fitted-level-0);\n",
              "}\n",
              "\n",
              "#sk-container-id-1 div.sk-toggleable__content pre {\n",
              "  margin: 0.2em;\n",
              "  border-radius: 0.25em;\n",
              "  color: var(--sklearn-color-text);\n",
              "  /* unfitted */\n",
              "  background-color: var(--sklearn-color-unfitted-level-0);\n",
              "}\n",
              "\n",
              "#sk-container-id-1 div.sk-toggleable__content.fitted pre {\n",
              "  /* unfitted */\n",
              "  background-color: var(--sklearn-color-fitted-level-0);\n",
              "}\n",
              "\n",
              "#sk-container-id-1 input.sk-toggleable__control:checked~div.sk-toggleable__content {\n",
              "  /* Expand drop-down */\n",
              "  max-height: 200px;\n",
              "  max-width: 100%;\n",
              "  overflow: auto;\n",
              "}\n",
              "\n",
              "#sk-container-id-1 input.sk-toggleable__control:checked~label.sk-toggleable__label-arrow:before {\n",
              "  content: \"▾\";\n",
              "}\n",
              "\n",
              "/* Pipeline/ColumnTransformer-specific style */\n",
              "\n",
              "#sk-container-id-1 div.sk-label input.sk-toggleable__control:checked~label.sk-toggleable__label {\n",
              "  color: var(--sklearn-color-text);\n",
              "  background-color: var(--sklearn-color-unfitted-level-2);\n",
              "}\n",
              "\n",
              "#sk-container-id-1 div.sk-label.fitted input.sk-toggleable__control:checked~label.sk-toggleable__label {\n",
              "  background-color: var(--sklearn-color-fitted-level-2);\n",
              "}\n",
              "\n",
              "/* Estimator-specific style */\n",
              "\n",
              "/* Colorize estimator box */\n",
              "#sk-container-id-1 div.sk-estimator input.sk-toggleable__control:checked~label.sk-toggleable__label {\n",
              "  /* unfitted */\n",
              "  background-color: var(--sklearn-color-unfitted-level-2);\n",
              "}\n",
              "\n",
              "#sk-container-id-1 div.sk-estimator.fitted input.sk-toggleable__control:checked~label.sk-toggleable__label {\n",
              "  /* fitted */\n",
              "  background-color: var(--sklearn-color-fitted-level-2);\n",
              "}\n",
              "\n",
              "#sk-container-id-1 div.sk-label label.sk-toggleable__label,\n",
              "#sk-container-id-1 div.sk-label label {\n",
              "  /* The background is the default theme color */\n",
              "  color: var(--sklearn-color-text-on-default-background);\n",
              "}\n",
              "\n",
              "/* On hover, darken the color of the background */\n",
              "#sk-container-id-1 div.sk-label:hover label.sk-toggleable__label {\n",
              "  color: var(--sklearn-color-text);\n",
              "  background-color: var(--sklearn-color-unfitted-level-2);\n",
              "}\n",
              "\n",
              "/* Label box, darken color on hover, fitted */\n",
              "#sk-container-id-1 div.sk-label.fitted:hover label.sk-toggleable__label.fitted {\n",
              "  color: var(--sklearn-color-text);\n",
              "  background-color: var(--sklearn-color-fitted-level-2);\n",
              "}\n",
              "\n",
              "/* Estimator label */\n",
              "\n",
              "#sk-container-id-1 div.sk-label label {\n",
              "  font-family: monospace;\n",
              "  font-weight: bold;\n",
              "  display: inline-block;\n",
              "  line-height: 1.2em;\n",
              "}\n",
              "\n",
              "#sk-container-id-1 div.sk-label-container {\n",
              "  text-align: center;\n",
              "}\n",
              "\n",
              "/* Estimator-specific */\n",
              "#sk-container-id-1 div.sk-estimator {\n",
              "  font-family: monospace;\n",
              "  border: 1px dotted var(--sklearn-color-border-box);\n",
              "  border-radius: 0.25em;\n",
              "  box-sizing: border-box;\n",
              "  margin-bottom: 0.5em;\n",
              "  /* unfitted */\n",
              "  background-color: var(--sklearn-color-unfitted-level-0);\n",
              "}\n",
              "\n",
              "#sk-container-id-1 div.sk-estimator.fitted {\n",
              "  /* fitted */\n",
              "  background-color: var(--sklearn-color-fitted-level-0);\n",
              "}\n",
              "\n",
              "/* on hover */\n",
              "#sk-container-id-1 div.sk-estimator:hover {\n",
              "  /* unfitted */\n",
              "  background-color: var(--sklearn-color-unfitted-level-2);\n",
              "}\n",
              "\n",
              "#sk-container-id-1 div.sk-estimator.fitted:hover {\n",
              "  /* fitted */\n",
              "  background-color: var(--sklearn-color-fitted-level-2);\n",
              "}\n",
              "\n",
              "/* Specification for estimator info (e.g. \"i\" and \"?\") */\n",
              "\n",
              "/* Common style for \"i\" and \"?\" */\n",
              "\n",
              ".sk-estimator-doc-link,\n",
              "a:link.sk-estimator-doc-link,\n",
              "a:visited.sk-estimator-doc-link {\n",
              "  float: right;\n",
              "  font-size: smaller;\n",
              "  line-height: 1em;\n",
              "  font-family: monospace;\n",
              "  background-color: var(--sklearn-color-background);\n",
              "  border-radius: 1em;\n",
              "  height: 1em;\n",
              "  width: 1em;\n",
              "  text-decoration: none !important;\n",
              "  margin-left: 0.5em;\n",
              "  text-align: center;\n",
              "  /* unfitted */\n",
              "  border: var(--sklearn-color-unfitted-level-1) 1pt solid;\n",
              "  color: var(--sklearn-color-unfitted-level-1);\n",
              "}\n",
              "\n",
              ".sk-estimator-doc-link.fitted,\n",
              "a:link.sk-estimator-doc-link.fitted,\n",
              "a:visited.sk-estimator-doc-link.fitted {\n",
              "  /* fitted */\n",
              "  border: var(--sklearn-color-fitted-level-1) 1pt solid;\n",
              "  color: var(--sklearn-color-fitted-level-1);\n",
              "}\n",
              "\n",
              "/* On hover */\n",
              "div.sk-estimator:hover .sk-estimator-doc-link:hover,\n",
              ".sk-estimator-doc-link:hover,\n",
              "div.sk-label-container:hover .sk-estimator-doc-link:hover,\n",
              ".sk-estimator-doc-link:hover {\n",
              "  /* unfitted */\n",
              "  background-color: var(--sklearn-color-unfitted-level-3);\n",
              "  color: var(--sklearn-color-background);\n",
              "  text-decoration: none;\n",
              "}\n",
              "\n",
              "div.sk-estimator.fitted:hover .sk-estimator-doc-link.fitted:hover,\n",
              ".sk-estimator-doc-link.fitted:hover,\n",
              "div.sk-label-container:hover .sk-estimator-doc-link.fitted:hover,\n",
              ".sk-estimator-doc-link.fitted:hover {\n",
              "  /* fitted */\n",
              "  background-color: var(--sklearn-color-fitted-level-3);\n",
              "  color: var(--sklearn-color-background);\n",
              "  text-decoration: none;\n",
              "}\n",
              "\n",
              "/* Span, style for the box shown on hovering the info icon */\n",
              ".sk-estimator-doc-link span {\n",
              "  display: none;\n",
              "  z-index: 9999;\n",
              "  position: relative;\n",
              "  font-weight: normal;\n",
              "  right: .2ex;\n",
              "  padding: .5ex;\n",
              "  margin: .5ex;\n",
              "  width: min-content;\n",
              "  min-width: 20ex;\n",
              "  max-width: 50ex;\n",
              "  color: var(--sklearn-color-text);\n",
              "  box-shadow: 2pt 2pt 4pt #999;\n",
              "  /* unfitted */\n",
              "  background: var(--sklearn-color-unfitted-level-0);\n",
              "  border: .5pt solid var(--sklearn-color-unfitted-level-3);\n",
              "}\n",
              "\n",
              ".sk-estimator-doc-link.fitted span {\n",
              "  /* fitted */\n",
              "  background: var(--sklearn-color-fitted-level-0);\n",
              "  border: var(--sklearn-color-fitted-level-3);\n",
              "}\n",
              "\n",
              ".sk-estimator-doc-link:hover span {\n",
              "  display: block;\n",
              "}\n",
              "\n",
              "/* \"?\"-specific style due to the `<a>` HTML tag */\n",
              "\n",
              "#sk-container-id-1 a.estimator_doc_link {\n",
              "  float: right;\n",
              "  font-size: 1rem;\n",
              "  line-height: 1em;\n",
              "  font-family: monospace;\n",
              "  background-color: var(--sklearn-color-background);\n",
              "  border-radius: 1rem;\n",
              "  height: 1rem;\n",
              "  width: 1rem;\n",
              "  text-decoration: none;\n",
              "  /* unfitted */\n",
              "  color: var(--sklearn-color-unfitted-level-1);\n",
              "  border: var(--sklearn-color-unfitted-level-1) 1pt solid;\n",
              "}\n",
              "\n",
              "#sk-container-id-1 a.estimator_doc_link.fitted {\n",
              "  /* fitted */\n",
              "  border: var(--sklearn-color-fitted-level-1) 1pt solid;\n",
              "  color: var(--sklearn-color-fitted-level-1);\n",
              "}\n",
              "\n",
              "/* On hover */\n",
              "#sk-container-id-1 a.estimator_doc_link:hover {\n",
              "  /* unfitted */\n",
              "  background-color: var(--sklearn-color-unfitted-level-3);\n",
              "  color: var(--sklearn-color-background);\n",
              "  text-decoration: none;\n",
              "}\n",
              "\n",
              "#sk-container-id-1 a.estimator_doc_link.fitted:hover {\n",
              "  /* fitted */\n",
              "  background-color: var(--sklearn-color-fitted-level-3);\n",
              "}\n",
              "</style><div id=\"sk-container-id-1\" class=\"sk-top-container\"><div class=\"sk-text-repr-fallback\"><pre>LogisticRegression(max_iter=1000)</pre><b>In a Jupyter environment, please rerun this cell to show the HTML representation or trust the notebook. <br />On GitHub, the HTML representation is unable to render, please try loading this page with nbviewer.org.</b></div><div class=\"sk-container\" hidden><div class=\"sk-item\"><div class=\"sk-estimator fitted sk-toggleable\"><input class=\"sk-toggleable__control sk-hidden--visually\" id=\"sk-estimator-id-1\" type=\"checkbox\" checked><label for=\"sk-estimator-id-1\" class=\"sk-toggleable__label fitted sk-toggleable__label-arrow\"><div><div>LogisticRegression</div></div><div><a class=\"sk-estimator-doc-link fitted\" rel=\"noreferrer\" target=\"_blank\" href=\"https://scikit-learn.org/1.6/modules/generated/sklearn.linear_model.LogisticRegression.html\">?<span>Documentation for LogisticRegression</span></a><span class=\"sk-estimator-doc-link fitted\">i<span>Fitted</span></span></div></label><div class=\"sk-toggleable__content fitted\"><pre>LogisticRegression(max_iter=1000)</pre></div> </div></div></div></div>"
            ]
          },
          "metadata": {},
          "execution_count": 7
        }
      ]
    },
    {
      "cell_type": "markdown",
      "source": [
        "#*Model Evaluation*"
      ],
      "metadata": {
        "id": "AyFc8nNQ5Jke"
      }
    },
    {
      "cell_type": "code",
      "source": [
        "from sklearn.metrics import classification_report, confusion_matrix\n",
        "\n",
        "# Make predictions\n",
        "y_pred = log_reg.predict(X_test)\n",
        "\n",
        "# Classification report\n",
        "classification_rep = classification_report(y_test, y_pred, target_names=le.classes_)\n",
        "print(\"Classification Report: \\n\", classification_rep)\n",
        "\n",
        "# Confusion matrix\n",
        "conf_matrix = confusion_matrix(y_test, y_pred)\n",
        "print(\"Confusion Matrix: \\n\", conf_matrix)\n"
      ],
      "metadata": {
        "id": "ZO3XyX0G5PvO",
        "colab": {
          "base_uri": "https://localhost:8080/"
        },
        "outputId": "429c44dc-a17c-49ad-fc76-2dbcff10cb8d"
      },
      "execution_count": 8,
      "outputs": [
        {
          "output_type": "stream",
          "name": "stdout",
          "text": [
            "Classification Report: \n",
            "               precision    recall  f1-score   support\n",
            "\n",
            "    Negative       0.81      0.56      0.66       443\n",
            "     Neutral       0.88      0.94      0.91      2722\n",
            "    Positive       0.90      0.88      0.89      2494\n",
            "\n",
            "    accuracy                           0.88      5659\n",
            "   macro avg       0.86      0.79      0.82      5659\n",
            "weighted avg       0.88      0.88      0.88      5659\n",
            "\n",
            "Confusion Matrix: \n",
            " [[ 246  106   91]\n",
            " [  19 2550  153]\n",
            " [  38  257 2199]]\n"
          ]
        }
      ]
    },
    {
      "cell_type": "markdown",
      "source": [
        "#*Predicting Sentiment for New Comments*"
      ],
      "metadata": {
        "id": "HrGp51KT5U5S"
      }
    },
    {
      "cell_type": "code",
      "source": [
        "# Function to predict sentiment along with polarity and subjectivity for new comments\n",
        "def predict_sentiment_with_polarity_subjectivity(new_comments):\n",
        "    # Vectorize the new comments for sentiment classification\n",
        "    new_comments_vectorized = vectorizer.transform(new_comments)\n",
        "\n",
        "    # Predict the sentiment (encoded)\n",
        "    predictions_encoded = log_reg.predict(new_comments_vectorized)\n",
        "\n",
        "    # Convert encoded predictions back to sentiment labels\n",
        "    predicted_sentiments = le.inverse_transform(predictions_encoded)\n",
        "\n",
        "    # Get polarity and subjectivity using TextBlob\n",
        "    polarity_subjectivity = [get_sentiment(comment) for comment in new_comments]\n",
        "\n",
        "    # Combine all the information and return the results\n",
        "    results = []\n",
        "    for comment, sentiment, (polarity, subjectivity) in zip(new_comments, predicted_sentiments, polarity_subjectivity):\n",
        "        results.append({\n",
        "            'Comment': comment,\n",
        "            'Predicted Sentiment': sentiment,\n",
        "            'Polarity': polarity,\n",
        "            'Subjectivity': subjectivity\n",
        "        })\n",
        "\n",
        "    return results\n",
        "\n",
        "# Example new comments for testing\n",
        "new_comments = [\n",
        "    \"I love you\",\n",
        "    \"I didn't like this video at all, but it wasn't a waste of time\",\n",
        "    \"I hate you\"\n",
        "]\n",
        "\n",
        "# Predicting sentiment, polarity, and subjectivity for the new comments\n",
        "predicted_results = predict_sentiment_with_polarity_subjectivity(new_comments)\n",
        "\n",
        "# Display the results\n",
        "for result in predicted_results:\n",
        "    print(f\"Comment: '{result['Comment']}'\")\n",
        "    print(f\"Predicted Sentiment: {result['Predicted Sentiment']}\")\n",
        "    print(f\"Polarity: {result['Polarity']}\")\n",
        "    print(f\"Subjectivity: {result['Subjectivity']}\")\n",
        "    print(\"\\n\")\n"
      ],
      "metadata": {
        "id": "wN4TAV2a5aGc",
        "colab": {
          "base_uri": "https://localhost:8080/"
        },
        "outputId": "50e01115-ba68-4be2-f348-ed120af4dd11"
      },
      "execution_count": 9,
      "outputs": [
        {
          "output_type": "stream",
          "name": "stdout",
          "text": [
            "Comment: 'I love you'\n",
            "Predicted Sentiment: Positive\n",
            "Polarity: 0.5\n",
            "Subjectivity: 0.6\n",
            "\n",
            "\n",
            "Comment: 'I didn't like this video at all, but it wasn't a waste of time'\n",
            "Predicted Sentiment: Neutral\n",
            "Polarity: -0.2\n",
            "Subjectivity: 0.0\n",
            "\n",
            "\n",
            "Comment: 'I hate you'\n",
            "Predicted Sentiment: Negative\n",
            "Polarity: -0.8\n",
            "Subjectivity: 0.9\n",
            "\n",
            "\n"
          ]
        }
      ]
    }
  ]
}